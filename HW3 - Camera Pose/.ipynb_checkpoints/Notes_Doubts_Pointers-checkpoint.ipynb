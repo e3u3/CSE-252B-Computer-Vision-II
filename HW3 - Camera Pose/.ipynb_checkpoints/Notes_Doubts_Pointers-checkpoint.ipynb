{
 "cells": [
  {
   "cell_type": "markdown",
   "id": "206f1d9f",
   "metadata": {},
   "source": [
    "## Doubts\n",
    "\n",
    "In problem 1 the intrinsic matrix and given parameters, how do they relate exactly?"
   ]
  },
  {
   "cell_type": "markdown",
   "id": "08354de0",
   "metadata": {},
   "source": [
    "# My Understanding of the Pose Estimation of a calibrated camera\n",
    "\n",
    "So We have the Intrinics given and are solving for the extrinsic\n",
    "\n",
    "ePnP - Linear approach and uses something called the control points.\n",
    "\n",
    "LM based non-linear estimation.\n",
    "\n",
    "Outlier rejection using MSAC / RANSAC\n",
    "\n",
    "------------------------------------------------------------------------\n",
    "### Three Point Perspective Pose Estimation\n",
    "https://haralick-org.torahcode.us/journals/three_point_perspective.pdf\n",
    "\n",
    "Basically the Finsterwalder solution. \n",
    "You are given the projection of 3 world points forming a triangle and you need to find their world coordinates.\n",
    "\n",
    "<strike>Where does this fit in?<strike>\n",
    "\n",
    "We use this in the MSAC to perform outlier rejection! Use the PnP to get the R & T.\n",
    "    \n",
    "------------------------------------------------------------------------\n",
    "### Outlier rejection via MSAC and RANSAC\n",
    "    \n",
    "Sample random points.\n",
    "Calculate model.\n",
    "Compute Cost\n",
    "if (cost $<$ currentMinCost)\n",
    "    update cost and model\n",
    "\n",
    "RANSAC and MSAC different definitions of cost. (??)\n",
    "\n",
    "<strike>How does PnP fit in here exactly?<strike>\n",
    "    \n",
    "Use it get you camera R and T. (How?)"
   ]
  },
  {
   "cell_type": "code",
   "execution_count": null,
   "id": "d2f45b05",
   "metadata": {},
   "outputs": [],
   "source": []
  }
 ],
 "metadata": {
  "kernelspec": {
   "display_name": "Python 3",
   "language": "python",
   "name": "python3"
  },
  "language_info": {
   "codemirror_mode": {
    "name": "ipython",
    "version": 3
   },
   "file_extension": ".py",
   "mimetype": "text/x-python",
   "name": "python",
   "nbconvert_exporter": "python",
   "pygments_lexer": "ipython3",
   "version": "3.6.9"
  }
 },
 "nbformat": 4,
 "nbformat_minor": 5
}
